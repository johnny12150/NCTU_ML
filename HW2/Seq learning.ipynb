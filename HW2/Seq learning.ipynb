{
 "cells": [
  {
   "cell_type": "code",
   "execution_count": 1,
   "metadata": {
    "collapsed": true,
    "pycharm": {
     "is_executing": false
    }
   },
   "outputs": [],
   "source": [
    "import scipy.io as scio\n",
    "import math\n",
    "import numpy as np\n",
    "import matplotlib.pyplot as plt\n",
    "\n",
    "dataMat = scio.loadmat('./dataset/1_data.mat')\n",
    "x = dataMat['x']\n",
    "t = dataMat['t']"
   ]
  },
  {
   "cell_type": "code",
   "execution_count": 6,
   "outputs": [],
   "source": [
    "def phi(x, m):\n",
    "    X = []\n",
    "    for i in range(m):\n",
    "        # X += [sigmoid_basis(x,i, m)]\n",
    "        X.append(sigmoid_basis(x,i, m))\n",
    "    return np.asarray(X).reshape(-1, m)\n",
    "\n",
    "def sigmoid_basis(x, j, m, sigma=0.1):\n",
    "    muj = (2*j)/ m\n",
    "    a = (x - muj)/ sigma\n",
    "    return 1/ (1 + np.exp(-a))\n",
    "\n",
    "M = 3"
   ],
   "metadata": {
    "collapsed": false,
    "pycharm": {
     "name": "#%%\n",
     "is_executing": false
    }
   }
  },
  {
   "cell_type": "code",
   "execution_count": 28,
   "outputs": [
    {
     "data": {
      "text/plain": "<Figure size 432x288 with 1 Axes>",
      "image/png": "[encoded data removed]"
     },
     "metadata": {
      "needs_background": "light"
     },
     "output_type": "display_data"
    },
    {
     "data": {
      "text/plain": "<Figure size 432x288 with 1 Axes>",
      "image/png": "[encoded data removed]"
     },
     "metadata": {
      "needs_background": "light"
     },
     "output_type": "display_data"
    },
    {
     "data": {
      "text/plain": "<Figure size 432x288 with 1 Axes>",
      "image/png": "[encoded data removed]"
     },
     "metadata": {
      "needs_background": "light"
     },
     "output_type": "display_data"
    },
    {
     "data": {
      "text/plain": "<Figure size 432x288 with 1 Axes>",
      "image/png": "[encoded data removed]"
     },
     "metadata": {
      "needs_background": "light"
     },
     "output_type": "display_data"
    }
   ],
   "source": [
    "for n in [5,10,30,80]: #分別用不同的資料量測試\n",
    "    plt.figure()\n",
    "    plt.plot(x[:n],t[:n],'o') #劃上資料點\n",
    "\n",
    "    PHI = phi(x[0], M)\n",
    "    target = t[:n]\n",
    "    for i in range(1,n):\n",
    "        PHI = np.vstack((PHI, phi(x[i], M)))"
   ],
   "metadata": {
    "collapsed": false,
    "pycharm": {
     "name": "#%%\n",
     "is_executing": false
    }
   }
  },
  {
   "cell_type": "code",
   "execution_count": 12,
   "outputs": [
    {
     "name": "stdout",
     "text": [
      "(3, 3) (2, 3) (2, 1)\n(3, 3) (3, 3) (3, 1)\n(3, 3) (4, 3) (4, 1)\n(3, 3) (5, 3) (5, 1)\n(3, 3) (6, 3) (6, 1)\n(3, 3) (7, 3) (7, 1)\n(3, 3) (8, 3) (8, 1)\n(3, 3) (9, 3) (9, 1)\n(3, 3) (10, 3) (10, 1)\n"
     ],
     "output_type": "stream"
    }
   ],
   "source": [
    "s0_inv = (10**-6) * np.identity(M) #S0\n",
    "m0 = 0\n",
    "beta = 1\n",
    "\n",
    "# 大PHI矩陣(裡面有許多小phi)\n",
    "PHI =  phi(x[0], M)\n",
    "sn_inv = s0_inv + beta*PHI.T.dot(PHI)\n",
    "sn = np.linalg.inv(sn_inv)\n",
    "mn = sn.dot(beta*np.dot(PHI.T, t[0]))\n",
    "# todo: 每次多拿到一筆資料來更新M, S\n",
    "for i in range(1, x.shape[0]):\n",
    "    if i == 10:\n",
    "        break\n",
    "        \n",
    "    # PHI = phi(x[:i], M)\n",
    "    # todo: 這樣有考慮i以前的全部資料嗎?\n",
    "    PHI = np.vstack((PHI, phi(x[i], M)))\n",
    "    sn_inv = sn_inv + beta*PHI.T.dot(PHI) # 計算Sn，且beta = 1\n",
    "    sn = np.linalg.inv(sn_inv)\n",
    "    print(sn.shape, PHI.shape, t[:i+1].shape)\n",
    "    mn = sn.dot((sn_inv.dot(mn)+beta*PHI.T.dot(t[:i+1])))"
   ],
   "metadata": {
    "collapsed": false,
    "pycharm": {
     "name": "#%%\n",
     "is_executing": false
    }
   }
  },
  {
   "cell_type": "code",
   "execution_count": 11,
   "outputs": [
    {
     "name": "stdout",
     "text": [
      "(1, 3)\n(1, 1)\n"
     ],
     "output_type": "stream"
    },
    {
     "data": {
      "text/plain": "array([[2.63993126]])"
     },
     "metadata": {},
     "output_type": "execute_result",
     "execution_count": 11
    }
   ],
   "source": [
    "print(phi(x[0], M).shape)"
   ],
   "metadata": {
    "collapsed": false,
    "pycharm": {
     "name": "#%%\n",
     "is_executing": false
    }
   }
  },
  {
   "cell_type": "code",
   "execution_count": 19,
   "outputs": [
    {
     "name": "stdout",
     "text": [
      "(3, 3, 1)\n"
     ],
     "output_type": "stream"
    }
   ],
   "source": [
    "b = phi(x[:3], 3)\n",
    "# print(x[0])\n",
    "print(b.shape)"
   ],
   "metadata": {
    "collapsed": false,
    "pycharm": {
     "name": "#%%\n",
     "is_executing": false
    }
   }
  },
  {
   "cell_type": "code",
   "execution_count": null,
   "outputs": [],
   "source": [
    "def gaussian_pdf(x, mean, sd):\n",
    "    y = (1/(sd * math.sqrt(2*math.pi))) * (math.e ** ((x-mean)** 2)/2*sd**2)\n",
    "    return y\n"
   ],
   "metadata": {
    "collapsed": false,
    "pycharm": {
     "name": "#%%\n"
    }
   }
  }
 ],
 "metadata": {
  "kernelspec": {
   "display_name": "Python 3",
   "language": "python",
   "name": "python3"
  },
  "language_info": {
   "codemirror_mode": {
    "name": "ipython",
    "version": 2
   },
   "file_extension": ".py",
   "mimetype": "text/x-python",
   "name": "python",
   "nbconvert_exporter": "python",
   "pygments_lexer": "ipython2",
   "version": "2.7.6"
  },
  "pycharm": {
   "stem_cell": {
    "cell_type": "raw",
    "source": [],
    "metadata": {
     "collapsed": false
    }
   }
  }
 },
 "nbformat": 4,
 "nbformat_minor": 0
}